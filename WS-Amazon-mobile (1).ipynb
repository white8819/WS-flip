{
 "cells": [
  {
   "cell_type": "code",
   "execution_count": 3,
   "metadata": {},
   "outputs": [],
   "source": [
    "#importing libraries\n",
    "import pandas as pd\n",
    "from selenium import webdriver\n",
    "from bs4 import BeautifulSoup\n",
    "import numpy as np\n",
    "from tqdm import tqdm_notebook as tqdm\n",
    "import re"
   ]
  },
  {
   "cell_type": "code",
   "execution_count": 4,
   "metadata": {},
   "outputs": [],
   "source": [
    "#Using proxy chrome driver\n",
    "driver = webdriver.Chrome('C:/Users/DC/Desktop/chromedriver.exe')"
   ]
  },
  {
   "cell_type": "code",
   "execution_count": 5,
   "metadata": {},
   "outputs": [],
   "source": [
    "def scrape(address):\n",
    "    try:\n",
    "        driver.get(address)\n",
    "        content=driver.page_source\n",
    "        soup=BeautifulSoup(content,'html.parser')\n",
    "\n",
    "        name = [i.text for i in soup.findAll('span', {'class':['a-size-medium a-color-base', 'a-text-normal']})][:-1]\n",
    "        price = [i.text for i in soup.findAll('span', {'class':['a-price-whole']})]\n",
    "\n",
    "        image = []\n",
    "        img_urls = soup.findAll('div', {'class':['a-section', 'aok-relative', 's-image-fixed-height']})\n",
    "        for url in img_urls:\n",
    "            try:\n",
    "                image.append(url.find('img')['src'])\n",
    "            except:\n",
    "                pass\n",
    "\n",
    "        image = list(set(image))\n",
    "        star = [i.text for i in soup.find_all('i', attrs={'class': re.compile('^a-icon a-icon-star-small.*')})]\n",
    "        th = min(len(name), len(price), len(image), len(star))\n",
    "        \n",
    "        df = pd.DataFrame()\n",
    "        df['name'] = name[:th]\n",
    "        df['price'] = price[:th]\n",
    "        df['url'] = image[:th]\n",
    "        df['star'] = star[:th]\n",
    "        \n",
    "        return df\n",
    "        \n",
    "    except Exception as e:\n",
    "        print(e)\n",
    "        pass"
   ]
  },
  {
   "cell_type": "code",
   "execution_count": 6,
   "metadata": {},
   "outputs": [
    {
     "name": "stderr",
     "output_type": "stream",
     "text": [
      "C:\\Users\\DC\\anaconda3\\lib\\site-packages\\ipykernel_launcher.py:3: TqdmDeprecationWarning: This function will be removed in tqdm==5.0.0\n",
      "Please use `tqdm.notebook.tqdm` instead of `tqdm.tqdm_notebook`\n",
      "  This is separate from the ipykernel package so we can avoid doing imports until\n"
     ]
    },
    {
     "data": {
      "application/vnd.jupyter.widget-view+json": {
       "model_id": "ceb53485563f4ac38c437a349a672132",
       "version_major": 2,
       "version_minor": 0
      },
      "text/plain": [
       "HBox(children=(FloatProgress(value=0.0, max=61.0), HTML(value='')))"
      ]
     },
     "metadata": {},
     "output_type": "display_data"
    },
    {
     "name": "stdout",
     "output_type": "stream",
     "text": [
      "\n"
     ]
    }
   ],
   "source": [
    "final_df=pd.DataFrame()\n",
    "\n",
    "for i in tqdm(range(61)):\n",
    "    df=scrape(f'https://www.amazon.in/s?k=mobile&i=electronics&rh=n%3A976419031%2Cp_36%3A1318506031&dc&page={i}&qid=1603367829&rnid=1318502031&ref=sr_pg_{i}')\n",
    "    final_df = pd.concat([final_df, df]).reset_index(drop=True)"
   ]
  },
  {
   "cell_type": "code",
   "execution_count": 12,
   "metadata": {},
   "outputs": [
    {
     "data": {
      "text/html": [
       "<div>\n",
       "<style scoped>\n",
       "    .dataframe tbody tr th:only-of-type {\n",
       "        vertical-align: middle;\n",
       "    }\n",
       "\n",
       "    .dataframe tbody tr th {\n",
       "        vertical-align: top;\n",
       "    }\n",
       "\n",
       "    .dataframe thead th {\n",
       "        text-align: right;\n",
       "    }\n",
       "</style>\n",
       "<table border=\"1\" class=\"dataframe\">\n",
       "  <thead>\n",
       "    <tr style=\"text-align: right;\">\n",
       "      <th></th>\n",
       "      <th>name</th>\n",
       "      <th>price</th>\n",
       "      <th>url</th>\n",
       "      <th>star</th>\n",
       "    </tr>\n",
       "  </thead>\n",
       "  <tbody>\n",
       "    <tr>\n",
       "      <th>0</th>\n",
       "      <td>Redmi Note 9 Pro Max (Aurora Blue, 6GB RAM, 64...</td>\n",
       "      <td>15,999</td>\n",
       "      <td>https://m.media-amazon.com/images/I/71wPwmxo2N...</td>\n",
       "      <td>4.1 out of 5 stars</td>\n",
       "    </tr>\n",
       "    <tr>\n",
       "      <th>1</th>\n",
       "      <td>OPPO A15 (Dynamic Black, 3GB RAM, 32GB Storage)</td>\n",
       "      <td>10,990</td>\n",
       "      <td>https://m.media-amazon.com/images/I/61L1ItFgFH...</td>\n",
       "      <td>4.2 out of 5 stars</td>\n",
       "    </tr>\n",
       "    <tr>\n",
       "      <th>2</th>\n",
       "      <td>Samsung Galaxy M21 (Midnight Blue, 4GB RAM, 64...</td>\n",
       "      <td>12,499</td>\n",
       "      <td>https://images-na.ssl-images-amazon.com/images...</td>\n",
       "      <td>4.2 out of 5 stars</td>\n",
       "    </tr>\n",
       "    <tr>\n",
       "      <th>3</th>\n",
       "      <td>Samsung Galaxy M31 (Ocean Blue, 6GB RAM, 128GB...</td>\n",
       "      <td>16,499</td>\n",
       "      <td>https://m.media-amazon.com/images/I/91Lr-OxVKj...</td>\n",
       "      <td>4.3 out of 5 stars</td>\n",
       "    </tr>\n",
       "    <tr>\n",
       "      <th>4</th>\n",
       "      <td>Samsung Galaxy M31s (Mirage Blue, 6GB RAM, 128...</td>\n",
       "      <td>18,499</td>\n",
       "      <td>https://m.media-amazon.com/images/I/71JDCbasga...</td>\n",
       "      <td>4.1 out of 5 stars</td>\n",
       "    </tr>\n",
       "    <tr>\n",
       "      <th>...</th>\n",
       "      <td>...</td>\n",
       "      <td>...</td>\n",
       "      <td>...</td>\n",
       "      <td>...</td>\n",
       "    </tr>\n",
       "    <tr>\n",
       "      <th>980</th>\n",
       "      <td>Honeytecs Professional Photography Light Stand...</td>\n",
       "      <td>14,997</td>\n",
       "      <td>https://m.media-amazon.com/images/I/51qKB-GMG-...</td>\n",
       "      <td>3.6 out of 5 stars</td>\n",
       "    </tr>\n",
       "    <tr>\n",
       "      <th>981</th>\n",
       "      <td>(Renewed) Sennheiser HD 4.50 BT NC Bluetooth W...</td>\n",
       "      <td>10,800</td>\n",
       "      <td>https://images-eu.ssl-images-amazon.com/images...</td>\n",
       "      <td>4.4 out of 5 stars</td>\n",
       "    </tr>\n",
       "    <tr>\n",
       "      <th>982</th>\n",
       "      <td>Sennheiser CX 400BT True Wireless</td>\n",
       "      <td>18,490</td>\n",
       "      <td>data:image/svg+xml;base64,PHN2ZyB4bWxucz0naHR0...</td>\n",
       "      <td>4.1 out of 5 stars</td>\n",
       "    </tr>\n",
       "    <tr>\n",
       "      <th>983</th>\n",
       "      <td>Audio-Technica ATH-E50 Professional in-Ear Mon...</td>\n",
       "      <td>10,500</td>\n",
       "      <td>https://m.media-amazon.com/images/I/51O0OFy6iz...</td>\n",
       "      <td>2.6 out of 5 stars</td>\n",
       "    </tr>\n",
       "    <tr>\n",
       "      <th>984</th>\n",
       "      <td>Fossil FTW2116 Q Founder Stainless Steel Gen 2...</td>\n",
       "      <td>12,299</td>\n",
       "      <td>https://m.media-amazon.com/images/I/71qEQQpWAR...</td>\n",
       "      <td>4.6 out of 5 stars</td>\n",
       "    </tr>\n",
       "  </tbody>\n",
       "</table>\n",
       "<p>985 rows × 4 columns</p>\n",
       "</div>"
      ],
      "text/plain": [
       "                                                  name   price  \\\n",
       "0    Redmi Note 9 Pro Max (Aurora Blue, 6GB RAM, 64...  15,999   \n",
       "1      OPPO A15 (Dynamic Black, 3GB RAM, 32GB Storage)  10,990   \n",
       "2    Samsung Galaxy M21 (Midnight Blue, 4GB RAM, 64...  12,499   \n",
       "3    Samsung Galaxy M31 (Ocean Blue, 6GB RAM, 128GB...  16,499   \n",
       "4    Samsung Galaxy M31s (Mirage Blue, 6GB RAM, 128...  18,499   \n",
       "..                                                 ...     ...   \n",
       "980  Honeytecs Professional Photography Light Stand...  14,997   \n",
       "981  (Renewed) Sennheiser HD 4.50 BT NC Bluetooth W...  10,800   \n",
       "982                  Sennheiser CX 400BT True Wireless  18,490   \n",
       "983  Audio-Technica ATH-E50 Professional in-Ear Mon...  10,500   \n",
       "984  Fossil FTW2116 Q Founder Stainless Steel Gen 2...  12,299   \n",
       "\n",
       "                                                   url                star  \n",
       "0    https://m.media-amazon.com/images/I/71wPwmxo2N...  4.1 out of 5 stars  \n",
       "1    https://m.media-amazon.com/images/I/61L1ItFgFH...  4.2 out of 5 stars  \n",
       "2    https://images-na.ssl-images-amazon.com/images...  4.2 out of 5 stars  \n",
       "3    https://m.media-amazon.com/images/I/91Lr-OxVKj...  4.3 out of 5 stars  \n",
       "4    https://m.media-amazon.com/images/I/71JDCbasga...  4.1 out of 5 stars  \n",
       "..                                                 ...                 ...  \n",
       "980  https://m.media-amazon.com/images/I/51qKB-GMG-...  3.6 out of 5 stars  \n",
       "981  https://images-eu.ssl-images-amazon.com/images...  4.4 out of 5 stars  \n",
       "982  data:image/svg+xml;base64,PHN2ZyB4bWxucz0naHR0...  4.1 out of 5 stars  \n",
       "983  https://m.media-amazon.com/images/I/51O0OFy6iz...  2.6 out of 5 stars  \n",
       "984  https://m.media-amazon.com/images/I/71qEQQpWAR...  4.6 out of 5 stars  \n",
       "\n",
       "[985 rows x 4 columns]"
      ]
     },
     "execution_count": 12,
     "metadata": {},
     "output_type": "execute_result"
    }
   ],
   "source": [
    "final_df"
   ]
  },
  {
   "cell_type": "code",
   "execution_count": 17,
   "metadata": {},
   "outputs": [],
   "source": [
    "final_df.to_csv('Amazon-mobile.csv',index=False,encoding='utf-8')"
   ]
  },
  {
   "cell_type": "code",
   "execution_count": null,
   "metadata": {},
   "outputs": [],
   "source": []
  }
 ],
 "metadata": {
  "kernelspec": {
   "display_name": "Python 3",
   "language": "python",
   "name": "python3"
  },
  "language_info": {
   "codemirror_mode": {
    "name": "ipython",
    "version": 3
   },
   "file_extension": ".py",
   "mimetype": "text/x-python",
   "name": "python",
   "nbconvert_exporter": "python",
   "pygments_lexer": "ipython3",
   "version": "3.7.6"
  }
 },
 "nbformat": 4,
 "nbformat_minor": 4
}
